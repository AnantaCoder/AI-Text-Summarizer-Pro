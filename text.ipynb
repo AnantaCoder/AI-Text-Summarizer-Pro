{
 "cells": [
  {
   "cell_type": "code",
   "execution_count": 4,
   "metadata": {},
   "outputs": [
    {
     "name": "stdout",
     "output_type": "stream",
     "text": [
      "92\n"
     ]
    }
   ],
   "source": [
    "large = \"Artificial Intelligence (AI) has transformed modern society in ways that were once considered purely science fiction. The rapid advancements in AI technologies have created new opportunities while also presenting significant challenges. Ethical concerns surrounding AI, such as data privacy, bias in algorithms, and the potential misuse of AI-driven surveillance, have raised significant debates. The future of AI depends on striking a balance between innovation and regulation, ensuring that its benefits are maximized while mitigating risks. As AI continues to evolve, the need for transparency, accountability, and collaboration among stakeholders becomes increasingly important.\"\n",
    "large = large.split()\n",
    "print(len(large))"
   ]
  },
  {
   "cell_type": "code",
   "execution_count": 5,
   "metadata": {},
   "outputs": [
    {
     "name": "stdout",
     "output_type": "stream",
     "text": [
      "39\n"
     ]
    }
   ],
   "source": [
    "small = \"Artificial Intelligence (AI) has transformed modern society in ways that were once considered purely science fiction. The rapid advancements in AI technologies, including machine learning, natural language processing, and robotics, have created new opportunities while also presenting significant challenges\"\n",
    "small = small.split()\n",
    "print(len(small))"
   ]
  },
  {
   "cell_type": "code",
   "execution_count": null,
   "metadata": {},
   "outputs": [],
   "source": [
    "text = \"Artificial Intelligence (AI) has transformed modern society in ways that were once considered purely science fiction, influencing industries, personal lives, and the global economy. The rapid advancements in AI technologies, including machine learning, natural language processing, and robotics, have created new opportunities while also presenting significant challenges. AI has seamlessly integrated into our daily lives, from virtual assistants like Siri and Alexa that process and respond to voice commands to recommendation algorithms that personalize content on streaming services and e-commerce platforms. In healthcare, AI is revolutionizing diagnostics, drug discovery, and personalized treatment plans. Machine learning algorithms can analyze vast amounts of medical data to detect diseases early, improving patient outcomes. AI-powered robotic surgeries enhance precision and reduce human error, leading to faster recovery times for patients. Similarly, AI-driven chatbots are providing instant medical consultations, making healthcare more accessible. In the financial sector, AI is optimizing fraud detection, algorithmic trading, and risk management. Banks and financial institutions use AI to analyze customer behavior, predict market trends, and offer personalized financial advice. AI-driven automation has also reshaped traditional employment landscapes, leading to concerns about job displacement. While AI eliminates repetitive tasks, it also creates new roles requiring specialized skills. The education sector is leveraging AI to personalize learning experiences, automate administrative tasks, and provide intelligent tutoring systems that adapt to individual student needs. AI-powered language learning apps make it easier for users to acquire new languages by providing real-time feedback. In the transportation industry, AI is driving the development of autonomous vehicles, which promise to reduce accidents caused by human error and improve traffic efficiency. Self-driving cars rely on computer vision, sensor fusion, and deep learning to navigate complex environments. Ride-sharing companies employ AI to optimize routes, predict demand, and enhance user experience. AI’s impact extends to creative fields as well, with AI-generated art, music, and literature pushing the boundaries of human creativity. AI-powered tools assist writers by suggesting content improvements, and AI-generated visuals are being used in marketing and design. However, with great power comes great responsibility. Ethical concerns surrounding AI, such as data privacy, bias in algorithms, and the potential misuse of AI-driven surveillance, have raised significant debates. Governments and organizations are working to establish policies that ensure AI is used responsibly and does not reinforce existing inequalities. AI in cybersecurity is playing a crucial role in detecting and preventing cyber threats. AI-driven systems analyze network behavior, identify anomalies, and respond to security breaches in real time. However, cybercriminals are also exploiting AI to create sophisticated attacks, necessitating continuous advancements in AI-driven security measures. The environmental impact of AI is another topic of discussion. While AI is being used to optimize energy consumption, enhance climate modeling, and support conservation efforts, training large AI models requires substantial computational resources, contributing to carbon emissions. Researchers are actively exploring ways to make AI development more energy-efficient. AI’s influence on human interaction and relationships is also evident. Social media platforms use AI to curate content, detect harmful speech, and enhance user engagement. While AI-driven algorithms aim to personalize experiences, they have also been criticized for creating echo chambers that reinforce biases. The role of AI in governance and policy-making is expanding, with governments utilizing AI to analyze public sentiment, predict social trends, and optimize resource allocation. AI-driven decision-making tools assist policymakers in drafting regulations, improving urban planning, and responding to crises. As AI continues to evolve, the need for transparency, accountability, and collaboration among stakeholders becomes increasingly important. Public awareness and education about AI’s potential and limitations are essential to ensure ethical and responsible AI deployment. AI has the potential to solve some of humanity’s most pressing challenges, from disease eradication to poverty reduction, but it must be guided by human values and ethical considerations. The future of AI depends on striking a balance between innovation and regulation, ensuring that its benefits are maximized while mitigating risks. As AI systems become more sophisticated, interdisciplinary collaboration between technologists, ethicists, and policymakers will be crucial in shaping an AI-powered future that serves the greater good. The journey of AI is still unfolding, and its trajectory will be defined by how society chooses to embrace and govern it. Ultimately, AI is not just a tool; it is a reflection of human ingenuity and ambition, shaping the world in ways that were once unimaginable\""
   ]
  }
 ],
 "metadata": {
  "kernelspec": {
   "display_name": "Python 3",
   "language": "python",
   "name": "python3"
  },
  "language_info": {
   "codemirror_mode": {
    "name": "ipython",
    "version": 3
   },
   "file_extension": ".py",
   "mimetype": "text/x-python",
   "name": "python",
   "nbconvert_exporter": "python",
   "pygments_lexer": "ipython3",
   "version": "3.11.3"
  }
 },
 "nbformat": 4,
 "nbformat_minor": 2
}
